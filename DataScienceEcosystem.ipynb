{
 "cells": [
  {
   "cell_type": "markdown",
   "id": "1e86cdb0",
   "metadata": {},
   "source": [
    "# Data Science Tools and Ecosystems"
   ]
  },
  {
   "cell_type": "markdown",
   "id": "f7fb88e6",
   "metadata": {},
   "source": [
    "In this notebook, Data Science Tools and Ecosystem are summarized."
   ]
  },
  {
   "cell_type": "markdown",
   "id": "a2a60e16",
   "metadata": {},
   "source": [
    "Some of the popular languages that Data Scientists use are:\n",
    "1. R\n",
    "2. Python\n",
    "3. Machine Learning"
   ]
  },
  {
   "cell_type": "markdown",
   "id": "93e07a7e",
   "metadata": {},
   "source": [
    "Some of the commonly used libraries used by Data Scientists include:\n",
    "1. Pandas\n",
    "2. Numpy\n",
    "3. Matplotlib"
   ]
  },
  {
   "cell_type": "markdown",
   "id": "3faf923d",
   "metadata": {},
   "source": [
    "# Data Science Tools\n",
    "\n",
    "1. Python\n",
    "2. Rstudio\n",
    "3. Tensorflow"
   ]
  },
  {
   "cell_type": "markdown",
   "id": "5b263083",
   "metadata": {},
   "source": [
    "### Below are a few examples of evaluating arithmetic expressions in Python.\n",
    "\n",
    "1. 2+3 = 5\n",
    "2. 3*4 = 12\n",
    "3. 2**3 = 8"
   ]
  },
  {
   "cell_type": "code",
   "execution_count": 2,
   "id": "428151d9",
   "metadata": {},
   "outputs": [
    {
     "data": {
      "text/plain": [
       "17"
      ]
     },
     "execution_count": 2,
     "metadata": {},
     "output_type": "execute_result"
    }
   ],
   "source": [
    "(3*4)+5\n",
    "\n",
    "#This a simple arithmetic expression to mutiply then add integers."
   ]
  },
  {
   "cell_type": "code",
   "execution_count": 6,
   "id": "7a50a39f",
   "metadata": {},
   "outputs": [
    {
     "name": "stdout",
     "output_type": "stream",
     "text": [
      "200 minutes : 3.3333333333333335 hours\n"
     ]
    }
   ],
   "source": [
    "m = 200\n",
    "h = 200/60\n",
    "print(f'200 minutes : {h} hours')\n",
    "\n",
    "#This will convert 200 minutes to hours by diving by 60"
   ]
  },
  {
   "cell_type": "markdown",
   "id": "030870b2",
   "metadata": {},
   "source": [
    "**Objectives**\n",
    "\n",
    "* Data Science Tools and Ecosystems\n",
    "* Popular Languages that data science use\n",
    "* Commonly used libraries in Data Science\n",
    "* Data Science Tools"
   ]
  },
  {
   "cell_type": "markdown",
   "id": "ba1a75e9",
   "metadata": {},
   "source": [
    "## Author\n",
    "\n",
    "**Saurabh Kumar**"
   ]
  },
  {
   "cell_type": "code",
   "execution_count": null,
   "id": "aa7c85be",
   "metadata": {},
   "outputs": [],
   "source": []
  }
 ],
 "metadata": {
  "kernelspec": {
   "display_name": "Python 3 (ipykernel)",
   "language": "python",
   "name": "python3"
  },
  "language_info": {
   "codemirror_mode": {
    "name": "ipython",
    "version": 3
   },
   "file_extension": ".py",
   "mimetype": "text/x-python",
   "name": "python",
   "nbconvert_exporter": "python",
   "pygments_lexer": "ipython3",
   "version": "3.9.13"
  }
 },
 "nbformat": 4,
 "nbformat_minor": 5
}
